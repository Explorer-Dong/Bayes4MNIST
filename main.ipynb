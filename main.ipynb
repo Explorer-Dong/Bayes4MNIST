{
 "cells": [
  {
   "cell_type": "code",
   "id": "initial_id",
   "metadata": {
    "collapsed": true,
    "ExecuteTime": {
     "end_time": "2024-06-21T09:32:29.775827Z",
     "start_time": "2024-06-21T09:32:29.771429Z"
    }
   },
   "source": [
    "import torch\n",
    "import matplotlib.pyplot as plt\n",
    "from typing import Tuple, List\n",
    "from sklearn.naive_bayes import GaussianNB"
   ],
   "outputs": [],
   "execution_count": 121
  },
  {
   "metadata": {},
   "cell_type": "markdown",
   "source": "## 一、数据预处理",
   "id": "a9c9d1115330ca4f"
  },
  {
   "metadata": {
    "ExecuteTime": {
     "end_time": "2024-06-21T09:32:29.844189Z",
     "start_time": "2024-06-21T09:32:29.834173Z"
    }
   },
   "cell_type": "code",
   "source": [
    "class DataProcess:\n",
    "    def __init__(self, images_path: str, labels_path: str, nums: int) -> None:\n",
    "        self.images_path = images_path\n",
    "        self.labels_path = labels_path\n",
    "        self.nums = nums\n",
    "        self.images = None\n",
    "        self.labels = None\n",
    "        self.X = None\n",
    "        self.y = None\n",
    "        \n",
    "        img_path = open(self.images_path, 'rb')\n",
    "        try:\n",
    "            # 跳过前面的magic number和图像个数、行列数\n",
    "            img_path.read(16)\n",
    "            images = torch.tensor(\n",
    "                [int.from_bytes(img_path.read(1), byteorder='big') for _ in range(nums * 28 * 28)],\n",
    "                dtype=torch.uint8)\n",
    "            images = images.view(nums, 28, 28)\n",
    "        finally:\n",
    "            img_path.close()\n",
    "        \n",
    "        lb_path = open(self.labels_path, 'rb')\n",
    "        try:\n",
    "            # 跳过前面的magic number和标签个数\n",
    "            lb_path.read(8)\n",
    "            labels = torch.tensor(\n",
    "                [int.from_bytes(lb_path.read(1), byteorder='big') for _ in range(nums)],\n",
    "                dtype=torch.uint8)\n",
    "        finally:\n",
    "            lb_path.close()\n",
    "        \n",
    "        self.images, self.labels = images, labels\n",
    "    \n",
    "    \n",
    "    def show_data(self, bin: bool = False, cnt: int = 5) -> None:\n",
    "        fig, axs = plt.subplots(1, cnt, figsize=(10, 10))\n",
    "        for i in range(cnt):\n",
    "            if bin:\n",
    "                axs[i].imshow(self.X[i].view(28, 28), cmap='gray')\n",
    "            else:\n",
    "                axs[i].imshow(self.images[i], cmap='gray')\n",
    "            axs[i].set_title(f'Label: {self.y[i]}')\n",
    "            axs[i].axis('off')\n",
    "        plt.show()\n",
    "    \n",
    "    \n",
    "    def reshape(self) -> None:\n",
    "        # 矩阵展平\n",
    "        self.X, self.y = self.images.view(self.images.shape[0], -1), self.labels\n",
    "    \n",
    "    \n",
    "    def binary(self) -> None:\n",
    "        # 二值化处理\n",
    "        self.X = (self.X > 0).to(torch.uint8)\n",
    "    \n",
    "    \n",
    "    def get_data(self) -> Tuple[torch.Tensor, torch.Tensor]:\n",
    "        return self.X, self.y"
   ],
   "id": "4dde5971b0cdf761",
   "outputs": [],
   "execution_count": 122
  },
  {
   "metadata": {
    "ExecuteTime": {
     "end_time": "2024-06-21T09:32:39.547029Z",
     "start_time": "2024-06-21T09:32:29.844189Z"
    }
   },
   "cell_type": "code",
   "source": [
    "train_images_path = './dataset/train-images.idx3-ubyte'\n",
    "train_labels_path = './dataset/train-labels.idx1-ubyte'\n",
    "test_images_path = './dataset/t10k-images.idx3-ubyte'\n",
    "test_labels_path = './dataset/t10k-labels.idx1-ubyte'\n",
    "\n",
    "train = DataProcess(train_images_path, train_labels_path, 60000)\n",
    "test = DataProcess(test_images_path, test_labels_path, 10000)\n",
    "train.reshape()\n",
    "test.reshape()\n",
    "\n",
    "ori_train_X, train_y = train.get_data()\n",
    "train.show_data(False, 5)\n",
    "train.binary()\n",
    "bin_train_X, train_y = train.get_data()\n",
    "train.show_data(True, 5)\n",
    "\n",
    "ori_test_X, test_y = test.get_data()\n",
    "test.show_data(False, 5)\n",
    "test.binary()\n",
    "bin_test_X, test_y = test.get_data()\n",
    "test.show_data(True, 5)"
   ],
   "id": "dc028ed69266dc7d",
   "outputs": [
    {
     "data": {
      "text/plain": [
       "<Figure size 1000x1000 with 5 Axes>"
      ],
      "image/png": "[encoded data removed]"
     },
     "metadata": {},
     "output_type": "display_data"
    },
    {
     "data": {
      "text/plain": [
       "<Figure size 1000x1000 with 5 Axes>"
      ],
      "image/png": "[encoded data removed]"
     },
     "metadata": {},
     "output_type": "display_data"
    },
    {
     "data": {
      "text/plain": [
       "<Figure size 1000x1000 with 5 Axes>"
      ],
      "image/png": "[encoded data removed]"
     },
     "metadata": {},
     "output_type": "display_data"
    },
    {
     "data": {
      "text/plain": [
       "<Figure size 1000x1000 with 5 Axes>"
      ],
      "image/png": "[encoded data removed]"
     },
     "metadata": {},
     "output_type": "display_data"
    }
   ],
   "execution_count": 123
  },
  {
   "metadata": {},
   "cell_type": "markdown",
   "source": "## 二、模型构建",
   "id": "9d36689b6fffad1d"
  },
  {
   "metadata": {
    "ExecuteTime": {
     "end_time": "2024-06-21T09:32:39.555791Z",
     "start_time": "2024-06-21T09:32:39.547029Z"
    }
   },
   "cell_type": "code",
   "source": [
    "class MyNaiveBayes:\n",
    "    def __init__(self, opt: str = \"log\") -> None:\n",
    "        self.opt = opt\n",
    "        self.classes = None\n",
    "        self.class_priors = None\n",
    "        self.feature_probs = None\n",
    "    \n",
    "    \n",
    "    def fit(self, train_X: torch.Tensor, train_y: torch.Tensor) -> None:\n",
    "        # 计算类的先验概率\n",
    "        self.classes, counts = train_y.unique(return_counts=True)\n",
    "        self.class_priors = counts.float() / train_y.shape[0]\n",
    "        \n",
    "        # 初始化特征条件概率矩阵\n",
    "        num_features = train_X.shape[1]\n",
    "        num_classes = len(self.classes)\n",
    "        self.feature_probs = torch.zeros((num_classes, num_features))\n",
    "        \n",
    "        # 计算特征条件概率\n",
    "        for idx, cls in enumerate(self.classes):\n",
    "            class_indices = (train_y == cls)\n",
    "            class_features = train_X[class_indices]\n",
    "            if self.opt == \"log\":\n",
    "                # 使用连乘取对数\n",
    "                self.feature_probs[idx, :] = (class_features.sum(dim=0) + 1) / (class_indices.sum() + 2)\n",
    "            elif self.opt == \"laplace\":\n",
    "                # 使用拉普拉斯平滑\n",
    "                self.feature_probs[idx, :] = (class_features.sum(dim=0) + 1) / (class_indices.sum() + 2)\n",
    "            else:\n",
    "                # 不使用平滑\n",
    "                self.feature_probs[idx, :] = class_features.sum(dim=0) / class_indices.sum()\n",
    "    \n",
    "    \n",
    "    def predict(self, test_X: torch.Tensor) -> torch.Tensor:\n",
    "        num_samples = test_X.shape[0]\n",
    "        num_classes = len(self.classes)\n",
    "        \n",
    "        # 初始化后验概率矩阵\n",
    "        log_posteriors = torch.zeros((num_samples, num_classes))\n",
    "        \n",
    "        for idx, cls in enumerate(self.classes):\n",
    "            # 计算每个样本属于当前类的对数后验概率\n",
    "            if self.opt == \"log\":\n",
    "                # 计算 log P(x|y) + log P(y)\n",
    "                log_likelihood = (test_X * torch.log(self.feature_probs[idx, :]) +\n",
    "                                  (1 - test_X) * torch.log(1 - self.feature_probs[idx, :])).sum(dim=1)\n",
    "                log_prior = torch.log(self.class_priors[idx])\n",
    "                log_posteriors[:, idx] = log_likelihood + log_prior\n",
    "            else:\n",
    "                # 计算 P(x|y) + log P(y) 使用拉普拉斯平滑\n",
    "                smoothed_feature_probs = (self.feature_probs[idx, :] + 1) / (self.feature_probs[idx, :].sum() + 2)\n",
    "                log_likelihood = (test_X * torch.log(smoothed_feature_probs) +\n",
    "                                  (1 - test_X) * torch.log(1 - smoothed_feature_probs)).sum(dim=1)\n",
    "                log_prior = torch.log(self.class_priors[idx])\n",
    "                log_posteriors[:, idx] = log_likelihood + log_prior\n",
    "        \n",
    "        # 返回具有最大后验概率的类\n",
    "        return self.classes[log_posteriors.argmax(dim=1)]"
   ],
   "id": "b3c914d46630fb9a",
   "outputs": [],
   "execution_count": 124
  },
  {
   "metadata": {},
   "cell_type": "markdown",
   "source": "## 三、模型测试与评估",
   "id": "466b2efe88464d85"
  },
  {
   "metadata": {
    "ExecuteTime": {
     "end_time": "2024-06-21T09:32:39.714778Z",
     "start_time": "2024-06-21T09:32:39.555791Z"
    }
   },
   "cell_type": "code",
   "source": [
    "### self library 原始数据 ###\n",
    "ori_model = MyNaiveBayes(opt='log')\n",
    "model.fit(ori_train_X, train_y)\n",
    "ori_pred_y = model.predict(ori_test_X)\n",
    "ori_accuracy = (ori_pred_y == test_y).sum() / test_y.shape[0]\n",
    "print(f'Accuracy: {ori_accuracy:.4f}')"
   ],
   "id": "7100bacd78d11c32",
   "outputs": [
    {
     "name": "stdout",
     "output_type": "stream",
     "text": [
      "Accuracy: 0.0980\n"
     ]
    }
   ],
   "execution_count": 125
  },
  {
   "metadata": {
    "ExecuteTime": {
     "end_time": "2024-06-21T09:32:39.862813Z",
     "start_time": "2024-06-21T09:32:39.714778Z"
    }
   },
   "cell_type": "code",
   "source": [
    "### self library 二值化数据 ###\n",
    "bin_model = MyNaiveBayes(opt='log')\n",
    "model.fit(bin_train_X, train_y)\n",
    "bin_pred_y = model.predict(bin_test_X)\n",
    "bin_accuracy = (bin_pred_y == test_y).sum() / test_y.shape[0]\n",
    "print(f'Accuracy: {bin_accuracy:.4f}')"
   ],
   "id": "4bc9bd9d9ebfa968",
   "outputs": [
    {
     "name": "stdout",
     "output_type": "stream",
     "text": [
      "Accuracy: 0.8413\n"
     ]
    }
   ],
   "execution_count": 126
  },
  {
   "metadata": {
    "ExecuteTime": {
     "end_time": "2024-06-21T09:32:40.859854Z",
     "start_time": "2024-06-21T09:32:39.864473Z"
    }
   },
   "cell_type": "code",
   "source": [
    "### std library ###\n",
    "clf = GaussianNB()\n",
    "clf.fit(ori_train_X, train_y)\n",
    "std_pred_y = torch.tensor(clf.predict(ori_test_X))\n",
    "std_accuracy = (std_pred_y == test_y).sum() / test_y.shape[0]\n",
    "print(f'Accuracy: {std_accuracy:.4f}')"
   ],
   "id": "37874aa03f5abfcb",
   "outputs": [
    {
     "name": "stdout",
     "output_type": "stream",
     "text": [
      "Accuracy: 0.5558\n"
     ]
    }
   ],
   "execution_count": 127
  },
  {
   "metadata": {
    "ExecuteTime": {
     "end_time": "2024-06-21T09:32:40.867256Z",
     "start_time": "2024-06-21T09:32:40.859854Z"
    }
   },
   "cell_type": "code",
   "source": [
    "for x in range(10):\n",
    "    print(f'Number {x} count: {torch.sum(test_y == x)}')\n",
    "\n",
    "for x in range(10):\n",
    "    print(f'Number {x} count: {torch.sum(pred_y == x)}')\n",
    "\n",
    "for x in range(10):\n",
    "    print(f'Number {x} count: {torch.sum(std_pred_y == x)}')"
   ],
   "id": "5fbb44158887aa00",
   "outputs": [
    {
     "name": "stdout",
     "output_type": "stream",
     "text": [
      "Number 0 count: 980\n",
      "Number 1 count: 1135\n",
      "Number 2 count: 1032\n",
      "Number 3 count: 1010\n",
      "Number 4 count: 982\n",
      "Number 5 count: 892\n",
      "Number 6 count: 958\n",
      "Number 7 count: 1028\n",
      "Number 8 count: 974\n",
      "Number 9 count: 1009\n",
      "Number 0 count: 980\n",
      "Number 1 count: 1204\n",
      "Number 2 count: 958\n",
      "Number 3 count: 1105\n",
      "Number 4 count: 963\n",
      "Number 5 count: 763\n",
      "Number 6 count: 958\n",
      "Number 7 count: 940\n",
      "Number 8 count: 1004\n",
      "Number 9 count: 1125\n",
      "Number 0 count: 1101\n",
      "Number 1 count: 1276\n",
      "Number 2 count: 294\n",
      "Number 3 count: 498\n",
      "Number 4 count: 190\n",
      "Number 5 count: 80\n",
      "Number 6 count: 1377\n",
      "Number 7 count: 319\n",
      "Number 8 count: 2280\n",
      "Number 9 count: 2585\n"
     ]
    }
   ],
   "execution_count": 128
  }
 ],
 "metadata": {
  "kernelspec": {
   "display_name": "Python 3",
   "language": "python",
   "name": "python3"
  },
  "language_info": {
   "codemirror_mode": {
    "name": "ipython",
    "version": 2
   },
   "file_extension": ".py",
   "mimetype": "text/x-python",
   "name": "python",
   "nbconvert_exporter": "python",
   "pygments_lexer": "ipython2",
   "version": "2.7.6"
  }
 },
 "nbformat": 4,
 "nbformat_minor": 5
}
