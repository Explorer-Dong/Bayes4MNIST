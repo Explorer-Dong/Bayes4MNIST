{
 "cells": [
  {
   "cell_type": "code",
   "id": "initial_id",
   "metadata": {
    "collapsed": true,
    "ExecuteTime": {
     "end_time": "2024-06-22T06:13:14.734529Z",
     "start_time": "2024-06-22T06:13:14.708788Z"
    }
   },
   "source": [
    "import torch\n",
    "import matplotlib.pyplot as plt\n",
    "from typing import Tuple, List"
   ],
   "outputs": [],
   "execution_count": 11
  },
  {
   "metadata": {},
   "cell_type": "markdown",
   "source": "## 一、数据预处理",
   "id": "a9c9d1115330ca4f"
  },
  {
   "metadata": {
    "ExecuteTime": {
     "end_time": "2024-06-22T06:13:14.789732Z",
     "start_time": "2024-06-22T06:13:14.763146Z"
    }
   },
   "cell_type": "code",
   "source": [
    "class DataProcess:\n",
    "    def __init__(self, images_path: str, labels_path: str, nums: int) -> None:\n",
    "        self.images_path = images_path\n",
    "        self.labels_path = labels_path\n",
    "        self.nums = nums\n",
    "        self.images = None\n",
    "        self.labels = None\n",
    "        self.X = None\n",
    "        self.y = None\n",
    "        \n",
    "        img_path = open(self.images_path, 'rb')\n",
    "        try:\n",
    "            # 跳过前面的magic number和图像个数、行列数\n",
    "            img_path.read(16)\n",
    "            images = torch.tensor(\n",
    "                [int.from_bytes(img_path.read(1), byteorder='big') for _ in range(nums * 28 * 28)],\n",
    "                dtype=torch.uint8)\n",
    "            images = images.view(nums, 28, 28)\n",
    "        finally:\n",
    "            img_path.close()\n",
    "        \n",
    "        lb_path = open(self.labels_path, 'rb')\n",
    "        try:\n",
    "            # 跳过前面的magic number和标签个数\n",
    "            lb_path.read(8)\n",
    "            labels = torch.tensor(\n",
    "                [int.from_bytes(lb_path.read(1), byteorder='big') for _ in range(nums)],\n",
    "                dtype=torch.uint8)\n",
    "        finally:\n",
    "            lb_path.close()\n",
    "        \n",
    "        self.images, self.labels = images, labels\n",
    "    \n",
    "    \n",
    "    def show_data(self, bin: bool = False, cnt: int = 5) -> None:\n",
    "        fig, axs = plt.subplots(1, cnt, figsize=(10, 10))\n",
    "        for i in range(cnt):\n",
    "            if bin:\n",
    "                axs[i].imshow(self.X[i].view(28, 28), cmap='gray')\n",
    "            else:\n",
    "                axs[i].imshow(self.images[i], cmap='gray')\n",
    "            axs[i].set_title(f'Label: {self.y[i]}')\n",
    "            axs[i].axis('off')\n",
    "        plt.show()\n",
    "    \n",
    "    \n",
    "    def reshape(self) -> None:\n",
    "        # 矩阵展平\n",
    "        self.X, self.y = self.images.view(self.images.shape[0], -1), self.labels\n",
    "    \n",
    "    \n",
    "    def binary(self) -> None:\n",
    "        # 二值化处理\n",
    "        self.X = (self.X > 0).to(torch.uint8)\n",
    "    \n",
    "    \n",
    "    def get_data(self) -> Tuple[torch.Tensor, torch.Tensor]:\n",
    "        return self.X, self.y"
   ],
   "id": "4dde5971b0cdf761",
   "outputs": [],
   "execution_count": 12
  },
  {
   "metadata": {
    "ExecuteTime": {
     "end_time": "2024-06-22T06:13:24.156402Z",
     "start_time": "2024-06-22T06:13:14.789732Z"
    }
   },
   "cell_type": "code",
   "source": [
    "train_images_path = './dataset/train-images.idx3-ubyte'\n",
    "train_labels_path = './dataset/train-labels.idx1-ubyte'\n",
    "test_images_path = './dataset/t10k-images.idx3-ubyte'\n",
    "test_labels_path = './dataset/t10k-labels.idx1-ubyte'\n",
    "\n",
    "train = DataProcess(train_images_path, train_labels_path, 60000)\n",
    "test = DataProcess(test_images_path, test_labels_path, 10000)\n",
    "train.reshape()\n",
    "test.reshape()\n",
    "\n",
    "grey_train_X, train_y = train.get_data()\n",
    "train.show_data(False, 5)\n",
    "train.binary()\n",
    "bin_train_X, train_y = train.get_data()\n",
    "train.show_data(True, 5)\n",
    "\n",
    "grey_test_X, test_y = test.get_data()\n",
    "test.show_data(False, 5)\n",
    "test.binary()\n",
    "bin_test_X, test_y = test.get_data()\n",
    "test.show_data(True, 5)"
   ],
   "id": "dc028ed69266dc7d",
   "outputs": [
    {
     "data": {
      "text/plain": [
       "<Figure size 1000x1000 with 5 Axes>"
      ],
      "image/png": "[encoded data removed]"
     },
     "metadata": {},
     "output_type": "display_data"
    },
    {
     "data": {
      "text/plain": [
       "<Figure size 1000x1000 with 5 Axes>"
      ],
      "image/png": "[encoded data removed]"
     },
     "metadata": {},
     "output_type": "display_data"
    },
    {
     "data": {
      "text/plain": [
       "<Figure size 1000x1000 with 5 Axes>"
      ],
      "image/png": "[encoded data removed]"
     },
     "metadata": {},
     "output_type": "display_data"
    },
    {
     "data": {
      "text/plain": [
       "<Figure size 1000x1000 with 5 Axes>"
      ],
      "image/png": "[encoded data removed]"
     },
     "metadata": {},
     "output_type": "display_data"
    }
   ],
   "execution_count": 13
  },
  {
   "metadata": {},
   "cell_type": "markdown",
   "source": "## 二、模型构建",
   "id": "9d36689b6fffad1d"
  },
  {
   "metadata": {
    "ExecuteTime": {
     "end_time": "2024-06-22T06:13:24.166828Z",
     "start_time": "2024-06-22T06:13:24.156402Z"
    }
   },
   "cell_type": "code",
   "source": [
    "class MyNaiveBayes:\n",
    "    def __init__(self, opt: str = \"log\") -> None:\n",
    "        if opt not in [\"log\", \"nolog\"]:\n",
    "            raise ValueError(\"Invalid option for 'opt'. Must be 'log' or 'nolog'.\")\n",
    "        \n",
    "        self.opt = opt         # 优化选项\n",
    "        self.classes = None    # 类别标签\n",
    "        self.cla_pri = None    # 类别先验概率\n",
    "        self.feat_prob = None  # 特征条件概率\n",
    "    \n",
    "    \n",
    "    def fit(self, train_X: torch.Tensor, train_y: torch.Tensor) -> None:\n",
    "        # 计算类的先验概率\n",
    "        self.classes, counts = train_y.unique(return_counts=True)\n",
    "        self.cla_pri = counts.float() / train_y.shape[0]\n",
    "        \n",
    "        # 初始化特征条件概率矩阵\n",
    "        num_feat = train_X.shape[1]\n",
    "        num_cla = len(self.classes)\n",
    "        self.feat_prob = torch.zeros((num_cla, num_feat))\n",
    "        \n",
    "        # 计算特征条件概率\n",
    "        for idx, cls in enumerate(self.classes):\n",
    "            cla_ids = (train_y == cls)\n",
    "            cla_feat = train_X[cla_ids]\n",
    "            if self.opt == \"log\":\n",
    "                # 使用连乘取对数\n",
    "                self.feat_prob[idx, :] = (cla_feat.sum(dim=0) + 1) / (cla_ids.sum() + 2)\n",
    "            elif self.opt == \"nolog\":\n",
    "                # 不使用平滑\n",
    "                self.feat_prob[idx, :] = cla_feat.sum(dim=0) / cla_ids.sum()\n",
    "    \n",
    "    \n",
    "    def predict(self, test_X: torch.Tensor) -> torch.Tensor:\n",
    "        num_samples = test_X.shape[0]\n",
    "        num_cla = len(self.classes)\n",
    "        \n",
    "        # 初始化后验概率矩阵\n",
    "        log_post = torch.zeros((num_samples, num_cla))\n",
    "        \n",
    "        for idx, cls in enumerate(self.classes):\n",
    "            if self.opt == \"log\":\n",
    "                # 计算 log P(x|y) + log P(y)\n",
    "                log_likelihood = (test_X * torch.log(self.feat_prob[idx, :]) +\n",
    "                                  (1 - test_X) * torch.log(1 - self.feat_prob[idx, :])).sum(dim=1)\n",
    "                log_prior = torch.log(self.cla_pri[idx])\n",
    "                log_post[:, idx] = log_likelihood + log_prior\n",
    "            elif self.opt == \"nolog\":\n",
    "                # 计算 P(x|y) + log P(y)\n",
    "                likelihood = (test_X * self.feat_prob[idx, :] +\n",
    "                              (1 - test_X) * (1 - self.feat_prob[idx, :])).prod(dim=1)\n",
    "                log_prior = torch.log(self.cla_pri[idx])\n",
    "                log_post[:, idx] = torch.log(likelihood) + log_prior\n",
    "        \n",
    "        # 返回具有最大后验概率的类\n",
    "        return self.classes[log_post.argmax(dim=1)]"
   ],
   "id": "b3c914d46630fb9a",
   "outputs": [],
   "execution_count": 14
  },
  {
   "metadata": {},
   "cell_type": "markdown",
   "source": "## 三、模型测试与评估",
   "id": "466b2efe88464d85"
  },
  {
   "metadata": {},
   "cell_type": "markdown",
   "source": "### 3.1 灰度+不取对数",
   "id": "a057c78a61e4db87"
  },
  {
   "metadata": {
    "ExecuteTime": {
     "end_time": "2024-06-22T06:13:24.328652Z",
     "start_time": "2024-06-22T06:13:24.166828Z"
    }
   },
   "cell_type": "code",
   "source": [
    "model_gray_nolog = MyNaiveBayes(opt='nolog')\n",
    "model_gray_nolog.fit(grey_train_X, train_y)\n",
    "pred_y_gray_nolog = model_gray_nolog.predict(grey_test_X)\n",
    "accuracy_gray_nolog = (pred_y_gray_nolog == test_y).sum() / test_y.shape[0]\n",
    "print(f'Accuracy: {accuracy_gray_nolog:.4f}')"
   ],
   "id": "8ce861ba027d793d",
   "outputs": [
    {
     "name": "stdout",
     "output_type": "stream",
     "text": [
      "Accuracy: 0.0930\n"
     ]
    }
   ],
   "execution_count": 15
  },
  {
   "metadata": {},
   "cell_type": "markdown",
   "source": "### 3.2 灰度+取对数",
   "id": "5d58dd8132056f6e"
  },
  {
   "metadata": {
    "ExecuteTime": {
     "end_time": "2024-06-22T06:13:24.475365Z",
     "start_time": "2024-06-22T06:13:24.329925Z"
    }
   },
   "cell_type": "code",
   "source": [
    "model_gray_log = MyNaiveBayes(opt='log')\n",
    "model_gray_log.fit(grey_train_X, train_y)\n",
    "pred_y_gray_log = model_gray_log.predict(grey_test_X)\n",
    "accuracy_gray_log = (pred_y_gray_log == test_y).sum() / test_y.shape[0]\n",
    "print(f'Accuracy: {accuracy_gray_log:.4f}')"
   ],
   "id": "cb6ad08999e97cac",
   "outputs": [
    {
     "name": "stdout",
     "output_type": "stream",
     "text": [
      "Accuracy: 0.0980\n"
     ]
    }
   ],
   "execution_count": 16
  },
  {
   "metadata": {},
   "cell_type": "markdown",
   "source": "### 3.3 二值化+不取对数",
   "id": "67985ae1b4e73b55"
  },
  {
   "metadata": {
    "ExecuteTime": {
     "end_time": "2024-06-22T06:13:24.619002Z",
     "start_time": "2024-06-22T06:13:24.475365Z"
    }
   },
   "cell_type": "code",
   "source": [
    "model_bin_nolog = MyNaiveBayes(opt='nolog')\n",
    "model_bin_nolog.fit(bin_train_X, train_y)\n",
    "pred_y_bin_nolog = model_bin_nolog.predict(bin_test_X)\n",
    "accuracy_bin_nolog = (pred_y_bin_nolog == test_y).sum() / test_y.shape[0]\n",
    "print(f'Accuracy: {accuracy_bin_nolog:.4f}')"
   ],
   "id": "cd28aa2557ef35c6",
   "outputs": [
    {
     "name": "stdout",
     "output_type": "stream",
     "text": [
      "Accuracy: 0.1698\n"
     ]
    }
   ],
   "execution_count": 17
  },
  {
   "metadata": {},
   "cell_type": "markdown",
   "source": "### 3.4 二值化+取对数",
   "id": "f73d3e02d9b1cf1c"
  },
  {
   "metadata": {
    "ExecuteTime": {
     "end_time": "2024-06-22T06:13:24.759861Z",
     "start_time": "2024-06-22T06:13:24.619002Z"
    }
   },
   "cell_type": "code",
   "source": [
    "model_bin_log = MyNaiveBayes(opt='log')\n",
    "model_bin_log.fit(bin_train_X, train_y)\n",
    "pred_y_bin_log = model_bin_log.predict(bin_test_X)\n",
    "accuracy_bin_log = (pred_y_bin_log == test_y).sum() / test_y.shape[0]\n",
    "print(f'Accuracy: {accuracy_bin_log:.4f}')"
   ],
   "id": "c72f3e02dd960341",
   "outputs": [
    {
     "name": "stdout",
     "output_type": "stream",
     "text": [
      "Accuracy: 0.8413\n"
     ]
    }
   ],
   "execution_count": 18
  },
  {
   "metadata": {},
   "cell_type": "markdown",
   "source": "### 3.5 柱状图可视化",
   "id": "ade6a9d9627b5225"
  },
  {
   "metadata": {
    "ExecuteTime": {
     "end_time": "2024-06-22T06:13:25.192899Z",
     "start_time": "2024-06-22T06:13:24.759861Z"
    }
   },
   "cell_type": "code",
   "source": [
    "fig, axs = plt.subplots(2, 5, figsize=(20, 10))\n",
    "\n",
    "for i in range(5):\n",
    "    axs[0, i].bar(range(5), [torch.sum(pred_y_gray_nolog == i), torch.sum(pred_y_gray_log == i),\n",
    "                             torch.sum(pred_y_bin_nolog == i), torch.sum(pred_y_bin_log == i),\n",
    "                             torch.sum(test_y == i)], color=['r', 'g', 'b', 'y', 'c'])\n",
    "    axs[0, i].set_title(f'Number {i}')\n",
    "    axs[0, i].set_xticks(range(5))\n",
    "    axs[0, i].set_xticklabels(['G-N', 'G-L', 'B-N', 'B-L', 'Real'])\n",
    "    axs[0, i].set_ylim([500, 1500])\n",
    "\n",
    "for i in range(5, 10):\n",
    "    axs[1, i - 5].bar(range(5), [torch.sum(pred_y_gray_nolog == i), torch.sum(pred_y_gray_log == i),\n",
    "                                 torch.sum(pred_y_bin_nolog == i), torch.sum(pred_y_bin_log == i),\n",
    "                                 torch.sum(test_y == i)], color=['r', 'g', 'b', 'y', 'c'])\n",
    "    axs[1, i - 5].set_title(f'Number {i}')\n",
    "    axs[1, i - 5].set_xticks(range(5))\n",
    "    axs[1, i - 5].set_xticklabels(['G-N', 'G-L', 'B-N', 'B-L', 'Real'])\n",
    "    axs[1, i - 5].set_ylim([500, 1500])\n",
    "\n",
    "plt.show()"
   ],
   "id": "581c85dcdabee5fb",
   "outputs": [
    {
     "data": {
      "text/plain": [
       "<Figure size 2000x1000 with 10 Axes>"
      ],
      "image/png": "[encoded data removed]"
     },
     "metadata": {},
     "output_type": "display_data"
    }
   ],
   "execution_count": 19
  }
 ],
 "metadata": {
  "kernelspec": {
   "display_name": "Python 3",
   "language": "python",
   "name": "python3"
  },
  "language_info": {
   "codemirror_mode": {
    "name": "ipython",
    "version": 2
   },
   "file_extension": ".py",
   "mimetype": "text/x-python",
   "name": "python",
   "nbconvert_exporter": "python",
   "pygments_lexer": "ipython2",
   "version": "2.7.6"
  }
 },
 "nbformat": 4,
 "nbformat_minor": 5
}
